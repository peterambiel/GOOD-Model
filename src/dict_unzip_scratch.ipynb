{
 "cells": [
  {
   "cell_type": "code",
   "execution_count": 1,
   "metadata": {},
   "outputs": [],
   "source": [
    "import pandas as pd \n",
    "import numpy as np\n",
    "import pickle\n",
    "import statistics as st"
   ]
  },
  {
   "cell_type": "code",
   "execution_count": 2,
   "metadata": {},
   "outputs": [],
   "source": [
    "filepath = '/Users/peterambiel/Library/CloudStorage/Box-Box/Electric Vehicle Research Center/Projects/GOOD Model/src/dicts_with_names.pkl'\n",
    "with open(filepath, 'rb') as pickle_file:\n",
    "        loaded_dicts_with_names = pickle.load(pickle_file)"
   ]
  },
  {
   "cell_type": "code",
   "execution_count": 20,
   "metadata": {},
   "outputs": [],
   "source": [
    "def gen_fuel_type_extraction(dict): \n",
    "    unique_keys = {'region': [], 'gen_type': [], 'gen_fuel': [], 'emissions_code':[]}  # Initialize unique_keys dictionary\n",
    "\n",
    "    for tuples in loaded_dicts_with_names['Plants_Dic']:\n",
    "        for idx_val, idx_name in enumerate(tuples):\n",
    "            if idx_val == 0:\n",
    "                if idx_name not in unique_keys['region']:\n",
    "                    unique_keys['region'].append(idx_name)  # Assign idx_name to 'region' key in unique_keys\n",
    "            elif idx_val == 1:\n",
    "                if idx_name not in unique_keys['gen_type']:\n",
    "                    unique_keys['gen_type'].append(idx_name)  # Assign idx_name to 'generator' key in unique_keys\n",
    "            elif idx_val == 2: \n",
    "                if idx_name not in unique_keys['gen_fuel']:\n",
    "                    unique_keys['gen_fuel'].append(idx_name)\n",
    "            elif idx_val == 3: \n",
    "                if idx_name not in unique_keys['emissions_code']:\n",
    "                    unique_keys['emissions_code'].append(idx_name)\n",
    "\n",
    "    return unique_keys"
   ]
  },
  {
   "cell_type": "code",
   "execution_count": 61,
   "metadata": {},
   "outputs": [],
   "source": [
    "# define sets for the model\n",
    "resource_class = list(range(1,7))\n",
    "cost_class = list(range(1,6))\n",
    "hours = list(range(0,8760))\n",
    "gen_heat_rate = list(range(1,5))\n",
    "days = list(range(1,366))\n",
    "states = ()\n",
    "regions = [key for key in loaded_dicts_with_names['Transmission_index'].keys()]\n",
    "gen_fuel_type = gen_fuel_type_extraction(loaded_dicts_with_names)['gen_fuel']\n",
    "gen_type = gen_fuel_type_extraction(loaded_dicts_with_names)['gen_type']\n",
    "emissions_code = gen_fuel_type_extraction(loaded_dicts_with_names)['emissions_code']\n"
   ]
  },
  {
   "cell_type": "code",
   "execution_count": 22,
   "metadata": {},
   "outputs": [],
   "source": [
    "sets_inputs = {\n",
    "    \"resource_class\": list(range(1, 7)),\n",
    "    \"cost_class\": list(range(1, 6)),\n",
    "    \"hours\": list(range(0, 8760)),\n",
    "    \"gen_heat_rate\": list(range(1, 5)),\n",
    "    \"days\": list(range(1, 366)),\n",
    "    \"states\": ['AL','AK','AZ','AR','CA','CO','CT','DE','DC','FL','GA','HI','ID','IL',\n",
    "\t'IN','IA','KS','KY','LA','ME','MD','MA','MI','MN','MS','MO','MT','NE','NV','NH',\n",
    "\t'NJ','NM','NY','NC','ND','OH','OK','OR','PA','RI','SC','SD','TN','TX','UT',\n",
    "\t'VT','VA','WA','WV','WI','WY'],\n",
    "    \"regions\": [key for key in loaded_dicts_with_names['Transmission_index'].keys()],\n",
    "    \"gen_fuel_type\": gen_fuel_type_extraction(loaded_dicts_with_names)['gen_fuel'],\n",
    "    \"gen_type\": gen_fuel_type_extraction(loaded_dicts_with_names)['gen_type'],\n",
    "    \"emissions_code\": gen_fuel_type_extraction(loaded_dicts_with_names)['emissions_code']\n",
    "}"
   ]
  },
  {
   "cell_type": "code",
   "execution_count": 12,
   "metadata": {},
   "outputs": [
    {
     "ename": "KeyError",
     "evalue": "('CN_AB', 'NaturalGas')",
     "output_type": "error",
     "traceback": [
      "\u001b[0;31m---------------------------------------------------------------------------\u001b[0m",
      "\u001b[0;31mKeyError\u001b[0m                                  Traceback (most recent call last)",
      "Cell \u001b[0;32mIn[12], line 1\u001b[0m\n\u001b[0;32m----> 1\u001b[0m loaded_dicts_with_names[\u001b[38;5;124m'\u001b[39m\u001b[38;5;124mPlant_capacity_dic\u001b[39m\u001b[38;5;124m'\u001b[39m][\u001b[38;5;124m'\u001b[39m\u001b[38;5;124mCN_AB\u001b[39m\u001b[38;5;124m'\u001b[39m, \u001b[38;5;124m'\u001b[39m\u001b[38;5;124mNaturalGas\u001b[39m\u001b[38;5;124m'\u001b[39m]\n",
      "\u001b[0;31mKeyError\u001b[0m: ('CN_AB', 'NaturalGas')"
     ]
    }
   ],
   "source": [
    "loaded_dicts_with_names['Plant_capacity_dic']['CN_AB', 'NaturalGas']"
   ]
  },
  {
   "cell_type": "code",
   "execution_count": 36,
   "metadata": {},
   "outputs": [
    {
     "name": "stdout",
     "output_type": "stream",
     "text": [
      "{}\n"
     ]
    }
   ],
   "source": [
    "test = {i: d for i,d in loaded_dicts_with_names['Plant_capacity_dic'].items() if i[0] == 'CN_AB'}\n",
    "\n",
    "print(test)"
   ]
  },
  {
   "cell_type": "code",
   "execution_count": 23,
   "metadata": {},
   "outputs": [
    {
     "data": {
      "text/plain": [
       "78"
      ]
     },
     "execution_count": 23,
     "metadata": {},
     "output_type": "execute_result"
    }
   ],
   "source": [
    "len(sets_inputs['regions'])\n"
   ]
  },
  {
   "cell_type": "code",
   "execution_count": 3,
   "metadata": {},
   "outputs": [],
   "source": [
    "hold_params = {'generator_cost': {(i[0], i[2]): d[1] for i, d in loaded_dicts_with_names['Plants_Dic'].items()},\n",
    "                'generator_capacity': loaded_dicts_with_names['Plant_capacity_dic'],\n",
    "                'solar_capex': loaded_dicts_with_names['Solar_capital_cost_photov_final'], \n",
    "                'solar_CF': loaded_dicts_with_names['Solar_capacity_factor_final'], \n",
    "                'solar_max_capacity': loaded_dicts_with_names['Solar_regional_capacity_final'],\n",
    "                'solar_installed_capacity': {i[0]: d for i, d in loaded_dicts_with_names['Plant_capacity_dic'].items() if i[1] == 'Solar'},\n",
    "                'wind_capex': loaded_dicts_with_names['Wind_capital_cost_final'], \n",
    "                'wind_CF': loaded_dicts_with_names['Wind_capacity_factor_final'], \n",
    "                'wind_max_capacity': loaded_dicts_with_names['Wind_onshore_capacity_final'],\n",
    "                'wind_installed_capacity': {i: d for i, d in loaded_dicts_with_names['Plant_capacity_dic'].items() if i[1] == 'Wind'},\n",
    "                'wind_transmission_cost': loaded_dicts_with_names['Wind_trans_capital_cost_final'],\n",
    "                'transmission_cost':loaded_dicts_with_names['Transmission_Cost_dic'], \n",
    "                'transmission_capacity':loaded_dicts_with_names['Transmission_Capacity_dic'],\n",
    "                'demand': loaded_dicts_with_names['load_final']}"
   ]
  },
  {
   "cell_type": "code",
   "execution_count": 8,
   "metadata": {},
   "outputs": [],
   "source": [
    "def rc_cc_extraction(dict): \n",
    "    unique_keys = {'region': [], 'state': [], 'rc': [], 'cc':[]}  # Initialize unique_keys dictionary\n",
    "\n",
    "    for tuples in dict:\n",
    "        for idx_val, idx_name in enumerate(tuples):\n",
    "            if idx_val == 0:\n",
    "                if idx_name not in unique_keys['region']:\n",
    "                    unique_keys['region'].append(idx_name)  # Assign idx_name to 'region' key in unique_keys\n",
    "            elif idx_val == 1:\n",
    "                if idx_name not in unique_keys['state']:\n",
    "                    unique_keys['state'].append(idx_name)  # Assign idx_name to 'generator' key in unique_keys\n",
    "            elif idx_val == 2: \n",
    "                if idx_name not in unique_keys['rc']:\n",
    "                    unique_keys['rc'].append(idx_name)\n",
    "            elif idx_val == 3: \n",
    "                if idx_name not in unique_keys['cc']:\n",
    "                    unique_keys['cc'].append(idx_name)\n",
    "\n",
    "    return unique_keys"
   ]
  },
  {
   "cell_type": "code",
   "execution_count": 12,
   "metadata": {},
   "outputs": [],
   "source": [
    "test  = hold_params['solar_capex']\n",
    "\n",
    "test_wind = hold_params['wind_capex']\n",
    "\n",
    "values = rc_cc_extraction(test)\n",
    "\n",
    "val_wind = rc_cc_extraction(test_wind)\n",
    "\n"
   ]
  },
  {
   "cell_type": "code",
   "execution_count": 19,
   "metadata": {},
   "outputs": [],
   "source": [
    "test = {i: d for i,d in hold_params['demand'].items() if i[0] == 'ERC_FRNT'} "
   ]
  },
  {
   "cell_type": "code",
   "execution_count": 20,
   "metadata": {},
   "outputs": [
    {
     "data": {
      "text/plain": [
       "{}"
      ]
     },
     "execution_count": 20,
     "metadata": {},
     "output_type": "execute_result"
    }
   ],
   "source": []
  },
  {
   "cell_type": "code",
   "execution_count": null,
   "metadata": {},
   "outputs": [],
   "source": []
  }
 ],
 "metadata": {
  "kernelspec": {
   "display_name": "p_main",
   "language": "python",
   "name": "python3"
  },
  "language_info": {
   "codemirror_mode": {
    "name": "ipython",
    "version": 3
   },
   "file_extension": ".py",
   "mimetype": "text/x-python",
   "name": "python",
   "nbconvert_exporter": "python",
   "pygments_lexer": "ipython3",
   "version": "3.11.3"
  }
 },
 "nbformat": 4,
 "nbformat_minor": 2
}
