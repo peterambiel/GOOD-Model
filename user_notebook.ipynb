{
 "cells": [
  {
   "cell_type": "code",
   "execution_count": 1,
   "metadata": {},
   "outputs": [],
   "source": [
    "import os\n",
    "import time\n",
    "import numpy as np\n",
    "import pandas as pd\n",
    "import pickle as pkl\n",
    "import pyomo.environ as pyomo\n",
    "import matplotlib.pyplot as plt\n",
    "\n",
    "import src\n",
    "from src.reload import deep_reload\n",
    "\n",
    "#Change this to point to your version of cbc or use another solver\n",
    "solver_kwargs={'_name':'cbc','executable':'src/cbc'}"
   ]
  },
  {
   "cell_type": "code",
   "execution_count": 2,
   "metadata": {},
   "outputs": [],
   "source": [
    "# import the model data to data_inputs.py\n",
    "def load_data(filepath):        \n",
    "\n",
    "# Load the pickled file\n",
    "    with open(filepath, 'rb') as pickle_file:\n",
    "        loaded_dicts_with_names = pkl.load(pickle_file)\n",
    "\n",
    "    return loaded_dicts_with_names\n",
    "\n",
    "model_data = load_data('src/dicts_with_names.pkl')"
   ]
  },
  {
   "cell_type": "code",
   "execution_count": 3,
   "metadata": {},
   "outputs": [],
   "source": [
    "deep_reload(src)\n",
    "# Load in the set indices and the model parameters from data_inputs.py\n",
    "\n",
    "set_inputs = src.data_inputs.extract_sets(model_data)\n",
    "param_inputs = src.data_inputs.extract_params(model_data)"
   ]
  },
  {
   "cell_type": "code",
   "execution_count": 4,
   "metadata": {},
   "outputs": [
    {
     "name": "stdout",
     "output_type": "stream",
     "text": [
      "Sets build: 0.013785123825073242\n",
      "Param build: 24.4816951751709\n",
      "Var build: 224.0915117263794\n",
      "Objective build: 106.04731225967407\n",
      "Balancing build: 570.0120828151703\n",
      "Generation Limits build: 763.6824109554291\n",
      "Transmission Limits build: 16.283128023147583\n",
      "Transmission Balance build: 9.056867122650146\n",
      "Storage Limits Constraints build: 1.0378029346466064\n"
     ]
    },
    {
     "ename": "AttributeError",
     "evalue": "'model_opt' object has no attribute 'storSCO'",
     "output_type": "error",
     "traceback": [
      "\u001b[0;31m---------------------------------------------------------------------------\u001b[0m",
      "\u001b[0;31mAttributeError\u001b[0m                            Traceback (most recent call last)",
      "Cell \u001b[0;32mIn[4], line 4\u001b[0m\n\u001b[1;32m      1\u001b[0m deep_reload(src)\n\u001b[1;32m      3\u001b[0m t0\u001b[38;5;241m=\u001b[39mtime\u001b[38;5;241m.\u001b[39mtime()\n\u001b[0;32m----> 4\u001b[0m problem\u001b[38;5;241m=\u001b[39msrc\u001b[38;5;241m.\u001b[39mgood\u001b[38;5;241m.\u001b[39mmodel_opt(set_inputs, param_inputs)\n",
      "File \u001b[0;32m~/Library/CloudStorage/Box-Box/Electric Vehicle Research Center/Projects/GOOD Model/src/good.py:20\u001b[0m, in \u001b[0;36mmodel_opt.__init__\u001b[0;34m(self, set_inputs, param_inputs)\u001b[0m\n\u001b[1;32m     16\u001b[0m \u001b[38;5;28mself\u001b[39m\u001b[38;5;241m.\u001b[39mparam_inputs\u001b[38;5;241m=\u001b[39mparam_inputs\n\u001b[1;32m     18\u001b[0m \u001b[38;5;28;01mif\u001b[39;00m \u001b[38;5;28mself\u001b[39m\u001b[38;5;241m.\u001b[39mset_inputs \u001b[38;5;129;01mand\u001b[39;00m \u001b[38;5;28mself\u001b[39m\u001b[38;5;241m.\u001b[39mparam_inputs:\n\u001b[0;32m---> 20\u001b[0m     \u001b[38;5;28mself\u001b[39m\u001b[38;5;241m.\u001b[39mBuild()\n",
      "File \u001b[0;32m~/Library/CloudStorage/Box-Box/Electric Vehicle Research Center/Projects/GOOD Model/src/good.py:124\u001b[0m, in \u001b[0;36mmodel_opt.Build\u001b[0;34m(self)\u001b[0m\n\u001b[1;32m    122\u001b[0m \u001b[38;5;66;03m#constraint 5: storage state-of-charge (r,t)\u001b[39;00m\n\u001b[1;32m    123\u001b[0m \u001b[38;5;28mself\u001b[39m\u001b[38;5;241m.\u001b[39mt0\u001b[38;5;241m=\u001b[39mtime\u001b[38;5;241m.\u001b[39mtime()\n\u001b[0;32m--> 124\u001b[0m \u001b[38;5;28mself\u001b[39m\u001b[38;5;241m.\u001b[39mstorSCO()\n\u001b[1;32m    125\u001b[0m \u001b[38;5;28mself\u001b[39m\u001b[38;5;241m.\u001b[39mt1\u001b[38;5;241m=\u001b[39mtime\u001b[38;5;241m.\u001b[39mtime()\n\u001b[1;32m    126\u001b[0m \u001b[38;5;28;01mdef\u001b[39;00m \u001b[38;5;21mprint_time\u001b[39m(time0, time1):\n",
      "\u001b[0;31mAttributeError\u001b[0m: 'model_opt' object has no attribute 'storSCO'"
     ]
    }
   ],
   "source": [
    "deep_reload(src)\n",
    "\n",
    "t0=time.time()\n",
    "problem=src.good.model_opt(set_inputs, param_inputs)\n"
   ]
  },
  {
   "cell_type": "code",
   "execution_count": null,
   "metadata": {},
   "outputs": [],
   "source": [
    "t1=time.time()\n",
    "solution = problem.Solve('cbc')\n",
    "\n",
    "t2=time.time()\n",
    "\n",
    "print(problem.model.objective(),t1-t0,t2-t1)"
   ]
  }
 ],
 "metadata": {
  "kernelspec": {
   "display_name": "p_main",
   "language": "python",
   "name": "python3"
  },
  "language_info": {
   "codemirror_mode": {
    "name": "ipython",
    "version": 3
   },
   "file_extension": ".py",
   "mimetype": "text/x-python",
   "name": "python",
   "nbconvert_exporter": "python",
   "pygments_lexer": "ipython3",
   "version": "3.11.3"
  }
 },
 "nbformat": 4,
 "nbformat_minor": 2
}
